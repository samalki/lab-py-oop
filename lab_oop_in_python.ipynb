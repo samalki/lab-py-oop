{
  "cells": [
    {
      "cell_type": "markdown",
      "metadata": {
        "id": "9lNAdHbvekgf"
      },
      "source": [
        "# LAB | Object-Oriented Programming (OOP) in Python"
      ]
    },
    {
      "cell_type": "markdown",
      "metadata": {
        "id": "Q4AKqK3Rekgl"
      },
      "source": [
        "## Overview\n",
        "This exercise notebook will help you practice Object-Oriented Programming concepts in Python. You will create classes, instantiate objects, and use inheritance to build more complex structures.\n",
        "\n",
        "## Instructions\n",
        "- Complete each exercise by writing the appropriate code in the provided space.\n",
        "- Test your code to ensure it works as expected.\n",
        "- Use the hints provided if you get stuck."
      ]
    },
    {
      "cell_type": "markdown",
      "metadata": {
        "id": "fJkuGZv_ekgp"
      },
      "source": [
        "### Exercise 1: Create a Class with Instance Attributes\n",
        "Write a Python program to create a `Vehicle` class with `max_speed` and `mileage` instance attributes."
      ]
    },
    {
      "cell_type": "code",
      "execution_count": 5,
      "metadata": {
        "colab": {
          "base_uri": "https://localhost:8080/"
        },
        "id": "dFGP63L8ekgq",
        "outputId": "7cf76103-f8de-41ee-d1cb-a66616ab8983"
      },
      "outputs": [
        {
          "output_type": "stream",
          "name": "stdout",
          "text": [
            "240 18\n"
          ]
        }
      ],
      "source": [
        "# Exercise 1: Create a Class with Instance Attributes\n",
        "class Vehicle1:\n",
        "    def __init__(self, max_speed, mileage):\n",
        "        self.max_speed = max_speed\n",
        "        self.mileage = mileage\n",
        "\n",
        "modelX = Vehicle1(240, 18)\n",
        "print(modelX.max_speed, modelX.mileage)  # Expected output: 240 18\n"
      ]
    },
    {
      "cell_type": "markdown",
      "metadata": {
        "id": "zURuAt9Aekgs"
      },
      "source": [
        "### Exercise 2: Create a Vehicle Class Without Any Variables and Methods\n",
        "Create a `Vehicle` class without any variables or methods."
      ]
    },
    {
      "cell_type": "code",
      "execution_count": 6,
      "metadata": {
        "colab": {
          "base_uri": "https://localhost:8080/"
        },
        "id": "PJ9vgh-Tekgu",
        "outputId": "7db32f7a-d71e-48d8-ee23-004f4cf04b45"
      },
      "outputs": [
        {
          "output_type": "stream",
          "name": "stdout",
          "text": [
            "<class '__main__.Vehicle2'>\n"
          ]
        }
      ],
      "source": [
        "\n",
        "# Exercise 2: Create a Vehicle Class Without Any Variables and Methods\n",
        "class Vehicle2:\n",
        "    pass\n",
        "\n",
        "my_vehicle = Vehicle2()\n",
        "print(type(my_vehicle))  # Expected: <class '__main__.Vehicle2'>"
      ]
    },
    {
      "cell_type": "markdown",
      "metadata": {
        "id": "tBe7OL-wekgw"
      },
      "source": [
        "### Exercise 3: Create a Child Class Bus\n",
        "Create a child class `Bus` that will inherit all of the variables and methods of the `Vehicle` class."
      ]
    },
    {
      "cell_type": "code",
      "execution_count": 8,
      "metadata": {
        "colab": {
          "base_uri": "https://localhost:8080/"
        },
        "id": "xZBR3s-Tekgy",
        "outputId": "3a0a81cc-b34a-457a-896f-7edc15486b69"
      },
      "outputs": [
        {
          "output_type": "stream",
          "name": "stdout",
          "text": [
            "<class '__main__.Bus3'>\n"
          ]
        }
      ],
      "source": [
        "class Vehicle3:\n",
        "    def __init__(self):\n",
        "        pass\n",
        "\n",
        "class Bus3(Vehicle3):\n",
        "    pass\n",
        "\n",
        "school_bus = Bus3()\n",
        "print(type(school_bus))  # Expected: <class '__main__.Bus3'>"
      ]
    },
    {
      "cell_type": "markdown",
      "metadata": {
        "id": "wjuaS29vekgz"
      },
      "source": [
        "### Exercise 4: Class Inheritance with Method Overriding\n",
        "Create a `Bus` class that inherits from the `Vehicle` class. Override the `fare()` method to include an extra charge for maintenance."
      ]
    },
    {
      "cell_type": "code",
      "execution_count": 14,
      "metadata": {
        "colab": {
          "base_uri": "https://localhost:8080/"
        },
        "id": "lJmbrXJGekg0",
        "outputId": "5033e8e3-cba4-4bff-b749-91f1a2583114"
      },
      "outputs": [
        {
          "output_type": "stream",
          "name": "stdout",
          "text": [
            "Exercise 4 Output: Base fare with extra charge\n"
          ]
        }
      ],
      "source": [
        "class Vehicle4:\n",
        "    def fare(self):\n",
        "        return \"Base fare\"\n",
        "\n",
        "class Bus4(Vehicle4):\n",
        "    def fare(self):\n",
        "        # Override fare method and add extra charge\n",
        "        return super().fare() + \" with extra charge\"\n",
        "\n",
        "school_bus = Bus4()\n",
        "print(\"Exercise 4 Output:\", school_bus.fare())  # Expected: \"Base fare with extra charge\"\n",
        "\n"
      ]
    },
    {
      "cell_type": "markdown",
      "metadata": {
        "id": "ohfAKsxIekg0"
      },
      "source": [
        "### Exercise 5: Define a Class Attribute\n",
        "Define a property that must have the same value for every class instance (object). Set a default value for `color`."
      ]
    },
    {
      "cell_type": "code",
      "execution_count": 10,
      "metadata": {
        "colab": {
          "base_uri": "https://localhost:8080/"
        },
        "id": "qBP_xicVekg0",
        "outputId": "0dacd0d3-8728-4fd0-bc15-f0cd370169ea"
      },
      "outputs": [
        {
          "output_type": "stream",
          "name": "stdout",
          "text": [
            "White\n"
          ]
        }
      ],
      "source": [
        "# Your code here\n",
        "class Vehicle:\n",
        "    color = \"White\"  # Hint: Define color as a class attribute\n",
        "\n",
        "    def __init__(self, name, max_speed, mileage):\n",
        "        self.name = name\n",
        "        self.max_speed = max_speed\n",
        "        self.mileage = mileage\n",
        "\n",
        "school_bus = Vehicle(\"School Volvo\", 180, 12)\n",
        "print(school_bus.color)  # Expected output: \"White\""
      ]
    },
    {
      "cell_type": "markdown",
      "metadata": {
        "id": "U5HJb9b8ekg1"
      },
      "source": [
        "### Exercise 6: Class Inheritance with Default Fare Calculation\n",
        "Create a `Bus` child class that inherits from the `Vehicle` class. The default fare charge of any vehicle is `seating capacity * 100`. If the vehicle is a bus instance, add an extra 10% on the full fare as a maintenance charge."
      ]
    },
    {
      "cell_type": "code",
      "execution_count": 11,
      "metadata": {
        "colab": {
          "base_uri": "https://localhost:8080/"
        },
        "id": "46HURp3Mekg2",
        "outputId": "31c99ed8-92fa-40ab-cccb-90994114a97e"
      },
      "outputs": [
        {
          "output_type": "stream",
          "name": "stdout",
          "text": [
            "Total Bus fare is: 5000\n"
          ]
        }
      ],
      "source": [
        "# Your code here\n",
        "class Vehicle:\n",
        "    def __init__(self, name, mileage, capacity):\n",
        "        self.name = name\n",
        "        self.mileage = mileage\n",
        "        self.capacity = capacity\n",
        "\n",
        "    def fare(self):\n",
        "        return self.capacity * 100\n",
        "\n",
        "class Bus(Vehicle):\n",
        "    # Hint: Override fare method to include maintenance charge\n",
        "    pass\n",
        "\n",
        "school_bus = Bus(\"School Volvo\", 12, 50)\n",
        "print(\"Total Bus fare is:\", school_bus.fare())  # Expected output: Total Bus fare is: (calculated amount)"
      ]
    },
    {
      "cell_type": "markdown",
      "metadata": {
        "id": "x_SydPK7ekg2"
      },
      "source": [
        "### Exercise 7: Check Type of an Object\n",
        "Write a program to determine which class a given object belongs to."
      ]
    },
    {
      "cell_type": "code",
      "execution_count": 12,
      "metadata": {
        "colab": {
          "base_uri": "https://localhost:8080/"
        },
        "id": "R1bSgGUVekg2",
        "outputId": "4c0927a0-bc52-4346-ee3a-4b8836b10a4c"
      },
      "outputs": [
        {
          "output_type": "stream",
          "name": "stdout",
          "text": [
            "<class '__main__.Bus'>\n"
          ]
        }
      ],
      "source": [
        "# Your code here\n",
        "school_bus = Bus(\"School Volvo\", 12, 50)\n",
        "print(type(school_bus))  # Expected output: <class '__main__.Bus'>"
      ]
    },
    {
      "cell_type": "markdown",
      "metadata": {
        "id": "8ll2FZNQekg2"
      },
      "source": [
        "### Exercise 8: Check Instance of Class\n",
        "Determine if `school_bus` is also an instance of the `Vehicle` class.\n"
      ]
    },
    {
      "cell_type": "code",
      "execution_count": 13,
      "metadata": {
        "colab": {
          "base_uri": "https://localhost:8080/"
        },
        "id": "7kh6RZ0iekg3",
        "outputId": "2eab5f83-4487-469e-b166-652ead921f9e"
      },
      "outputs": [
        {
          "output_type": "stream",
          "name": "stdout",
          "text": [
            "True\n"
          ]
        }
      ],
      "source": [
        "# Your code here\n",
        "print(isinstance(school_bus, Vehicle))  # Expected output: True or False based on inheritance"
      ]
    },
    {
      "cell_type": "markdown",
      "metadata": {
        "id": "e-ikJLI5ekg3"
      },
      "source": [
        "### Exercise Completion  \n",
        "Once you have completed all exercises:\n",
        "- Review your solutions.\n",
        "- Ensure your code is well-documented with comments explaining your logic.\n",
        "- Save your notebook for submission or further review.\n",
        "\n",
        "Happy coding! Enjoy exploring Object-Oriented Programming with Python!\n"
      ]
    },
    {
      "cell_type": "markdown",
      "source": [
        " Summary:\n",
        "Each exercise has its own class version (Vehicle1, Vehicle2, etc.) to prevent redefinition errors.\n",
        "\n",
        "Output for each exercise is printed with a label to clearly identify results.\n",
        "\n",
        "All exercises include inline comments explaining the logic."
      ],
      "metadata": {
        "id": "58dUxCGgfss0"
      }
    }
  ],
  "metadata": {
    "kernelspec": {
      "display_name": ".venv",
      "language": "python",
      "name": "python3"
    },
    "language_info": {
      "codemirror_mode": {
        "name": "ipython",
        "version": 3
      },
      "file_extension": ".py",
      "mimetype": "text/x-python",
      "name": "python",
      "nbconvert_exporter": "python",
      "pygments_lexer": "ipython3",
      "version": "3.8.0"
    },
    "colab": {
      "provenance": []
    }
  },
  "nbformat": 4,
  "nbformat_minor": 0
}